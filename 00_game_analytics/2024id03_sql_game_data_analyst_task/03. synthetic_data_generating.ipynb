{
 "cells": [
  {
   "cell_type": "markdown",
   "id": "e6776220",
   "metadata": {},
   "source": [
    "\n",
    "# Генерация синтетических данных \n",
    "\n",
    "Для выполнения ТЗ на позицию Data-analyst предлагается использовать таблицы со следующей структурой данных:\n",
    "\n",
    "*\tТаблица \"users\" с полями: id, name, email, created_at\n",
    "\n",
    "*\tТаблица \"orders\" с полями: id, user_id, total_price, created_at\n",
    "\n",
    "*\tТаблица \"order_items\" с полями: id, order_id, product_name, price, quantity\n"
   ]
  },
  {
   "cell_type": "code",
   "execution_count": 1,
   "id": "0e63835e",
   "metadata": {},
   "outputs": [],
   "source": [
    "import pandas as pd\n",
    "import numpy as np\n",
    "import random\n",
    "from faker import Faker\n",
    "import datetime as dt"
   ]
  },
  {
   "cell_type": "code",
   "execution_count": 2,
   "id": "14b29c2c",
   "metadata": {},
   "outputs": [],
   "source": [
    "# Используя метод Faker() из библиотеки faker сгенерируем тестовые данные.\n",
    "fake = Faker()\n",
    "\n",
    "n = 2500000 # объявим количество генерируемых значений   \n",
    "\n",
    "# Создадим пустой список 'names' и с помощью цикла заполним его генерируемыми значениями.\n",
    "names=[]\n",
    "for i in range(n):\n",
    "    names.append(fake.name())\n",
    "\n",
    "# names = [fake.name() for i in range(n)]"
   ]
  },
  {
   "cell_type": "code",
   "execution_count": 3,
   "id": "639a1016",
   "metadata": {},
   "outputs": [],
   "source": [
    "# Создадим пустой список 'dates', зададим период времени, в котором будут генерироваться даты,\n",
    "# с помощью цикла заполним его генерируемыми значениями.\n",
    "dates=[]\n",
    "date_start = '2023-01-01'\n",
    "date_start = dt.datetime.strptime(date_start, '%Y-%m-%d')\n",
    "date_end = '2024-09-30'\n",
    "date_end = dt.datetime.strptime(date_end, '%Y-%m-%d')\n",
    "\n",
    "for i in range(n):\n",
    "    dates.append(fake.date_between(date_start, date_end))\n",
    "\n",
    "dates.sort()"
   ]
  },
  {
   "cell_type": "code",
   "execution_count": 4,
   "id": "8e43eb2d",
   "metadata": {},
   "outputs": [],
   "source": [
    "# Создадим пустой список 'emails' и с помощью цикла заполним его.\n",
    "# Чтобы значения были уникальными добавим перед  \"@\"  порядковый номер имени в списке names.\n",
    "emails = [name.lower().replace(\" \", \".\") + f\"{i}@googlyandex.com\" for i, name in enumerate(names)]"
   ]
  },
  {
   "cell_type": "code",
   "execution_count": 5,
   "id": "33335a24",
   "metadata": {},
   "outputs": [
    {
     "data": {
      "text/html": [
       "<div>\n",
       "<style scoped>\n",
       "    .dataframe tbody tr th:only-of-type {\n",
       "        vertical-align: middle;\n",
       "    }\n",
       "\n",
       "    .dataframe tbody tr th {\n",
       "        vertical-align: top;\n",
       "    }\n",
       "\n",
       "    .dataframe thead th {\n",
       "        text-align: right;\n",
       "    }\n",
       "</style>\n",
       "<table border=\"1\" class=\"dataframe\">\n",
       "  <thead>\n",
       "    <tr style=\"text-align: right;\">\n",
       "      <th></th>\n",
       "      <th>name</th>\n",
       "      <th>email</th>\n",
       "      <th>created_at</th>\n",
       "    </tr>\n",
       "  </thead>\n",
       "  <tbody>\n",
       "    <tr>\n",
       "      <th>0</th>\n",
       "      <td>Chelsey White</td>\n",
       "      <td>chelsey.white0@googlyandex.com</td>\n",
       "      <td>2023-01-01</td>\n",
       "    </tr>\n",
       "    <tr>\n",
       "      <th>1</th>\n",
       "      <td>Gregory Allen</td>\n",
       "      <td>gregory.allen1@googlyandex.com</td>\n",
       "      <td>2023-01-01</td>\n",
       "    </tr>\n",
       "    <tr>\n",
       "      <th>2</th>\n",
       "      <td>Rachel Jones</td>\n",
       "      <td>rachel.jones2@googlyandex.com</td>\n",
       "      <td>2023-01-01</td>\n",
       "    </tr>\n",
       "    <tr>\n",
       "      <th>3</th>\n",
       "      <td>James Evans</td>\n",
       "      <td>james.evans3@googlyandex.com</td>\n",
       "      <td>2023-01-01</td>\n",
       "    </tr>\n",
       "    <tr>\n",
       "      <th>4</th>\n",
       "      <td>Sarah Fisher</td>\n",
       "      <td>sarah.fisher4@googlyandex.com</td>\n",
       "      <td>2023-01-01</td>\n",
       "    </tr>\n",
       "  </tbody>\n",
       "</table>\n",
       "</div>"
      ],
      "text/plain": [
       "            name                           email  created_at\n",
       "0  Chelsey White  chelsey.white0@googlyandex.com  2023-01-01\n",
       "1  Gregory Allen  gregory.allen1@googlyandex.com  2023-01-01\n",
       "2   Rachel Jones   rachel.jones2@googlyandex.com  2023-01-01\n",
       "3    James Evans    james.evans3@googlyandex.com  2023-01-01\n",
       "4   Sarah Fisher   sarah.fisher4@googlyandex.com  2023-01-01"
      ]
     },
     "execution_count": 5,
     "metadata": {},
     "output_type": "execute_result"
    }
   ],
   "source": [
    "# Cоздадим пустой DataFrame, куда и будем добавлять сгенерировынные данные. \n",
    "df_users = pd.DataFrame()\n",
    "\n",
    "# Соберём DataFrame\n",
    "df_users['name'] = names\n",
    "df_users['email'] = emails\n",
    "df_users['created_at'] = dates\n",
    "\n",
    "df_users.head()"
   ]
  },
  {
   "cell_type": "code",
   "execution_count": 6,
   "id": "b856c0d6",
   "metadata": {},
   "outputs": [
    {
     "name": "stdout",
     "output_type": "stream",
     "text": [
      "   id           name                           email  created_at\n",
      "0   1  Chelsey White  chelsey.white0@googlyandex.com  2023-01-01\n",
      "1   2  Gregory Allen  gregory.allen1@googlyandex.com  2023-01-01\n",
      "2   3   Rachel Jones   rachel.jones2@googlyandex.com  2023-01-01\n",
      "3   4    James Evans    james.evans3@googlyandex.com  2023-01-01\n",
      "4   5   Sarah Fisher   sarah.fisher4@googlyandex.com  2023-01-01\n",
      "----------------------\n",
      "(2500000, 4)\n",
      "----------------------\n",
      "id             int64\n",
      "name          object\n",
      "email         object\n",
      "created_at    object\n",
      "dtype: object\n"
     ]
    }
   ],
   "source": [
    "# Cбросим индекс и выведем его в отдельную колонку.\n",
    "# Переименуем колонку 'index' в 'id'.\n",
    "df_users = df_users.reset_index().rename(columns={'index': 'id'})\n",
    "\n",
    "# Так как мы генерируем наши данные для Postgre SQL, учитывая ограничение первичного и внешнего ключей, а также\n",
    "# разницу в исчислении в SQL и Python, сдвинем все значения столбца \"id\" на +1.\n",
    "df_users['id'] = df_users['id'] + 1\n",
    "\n",
    "\n",
    "print(df_users.head())\n",
    "print('----------------------')\n",
    "print(df_users.shape)\n",
    "print('----------------------')\n",
    "print(df_users.dtypes)"
   ]
  },
  {
   "cell_type": "markdown",
   "id": "848a30a2",
   "metadata": {},
   "source": [
    "________________________________________________________________________________________\n",
    "\n",
    "Таблица \"orders\" с полями: \n",
    "* id, \n",
    "* user_id, \n",
    "* total_price, \n",
    "* created_at"
   ]
  },
  {
   "cell_type": "code",
   "execution_count": 7,
   "id": "b5a93d91",
   "metadata": {},
   "outputs": [
    {
     "name": "stdout",
     "output_type": "stream",
     "text": [
      "         user_id  created_at\n",
      "453981    453982  2023-05-25\n",
      "1924443  1924444  2024-06-03\n",
      "----------------------\n",
      "(12500000, 2)\n"
     ]
    }
   ],
   "source": [
    "# Таблицу 'orders' сформируем следующим образом:\n",
    "# 1. ИЗ df_users случайным образом отберём n * 5 строк ['id','created_at']\n",
    "# 2. К каждой дате добавим случайное количество дней из диапазона от 0 до 60\n",
    "# 3. Общую стоимость сгенерируем случайным образом\n",
    "\n",
    "df_orders = df_users[['id','created_at']].sample((n * 5), replace = True).rename(columns={'id': 'user_id'})\n",
    "\n",
    "df_orders['created_at'] = df_orders.created_at + pd.Timedelta(days = (random.randint(0,60)))\n",
    "\n",
    "\n",
    "\n",
    "print(df_orders.head(2))\n",
    "print('----------------------')\n",
    "print(df_orders.shape)"
   ]
  },
  {
   "cell_type": "code",
   "execution_count": 8,
   "id": "4503b9d6",
   "metadata": {},
   "outputs": [
    {
     "data": {
      "text/html": [
       "<div>\n",
       "<style scoped>\n",
       "    .dataframe tbody tr th:only-of-type {\n",
       "        vertical-align: middle;\n",
       "    }\n",
       "\n",
       "    .dataframe tbody tr th {\n",
       "        vertical-align: top;\n",
       "    }\n",
       "\n",
       "    .dataframe thead th {\n",
       "        text-align: right;\n",
       "    }\n",
       "</style>\n",
       "<table border=\"1\" class=\"dataframe\">\n",
       "  <thead>\n",
       "    <tr style=\"text-align: right;\">\n",
       "      <th></th>\n",
       "      <th>user_id</th>\n",
       "      <th>created_at</th>\n",
       "      <th>total_price</th>\n",
       "    </tr>\n",
       "  </thead>\n",
       "  <tbody>\n",
       "    <tr>\n",
       "      <th>453981</th>\n",
       "      <td>453982</td>\n",
       "      <td>2023-05-25</td>\n",
       "      <td>NaN</td>\n",
       "    </tr>\n",
       "    <tr>\n",
       "      <th>1924443</th>\n",
       "      <td>1924444</td>\n",
       "      <td>2024-06-03</td>\n",
       "      <td>NaN</td>\n",
       "    </tr>\n",
       "  </tbody>\n",
       "</table>\n",
       "</div>"
      ],
      "text/plain": [
       "         user_id  created_at  total_price\n",
       "453981    453982  2023-05-25          NaN\n",
       "1924443  1924444  2024-06-03          NaN"
      ]
     },
     "execution_count": 8,
     "metadata": {},
     "output_type": "execute_result"
    }
   ],
   "source": [
    "# Соберём DataFrame\n",
    "df_orders['total_price'] = np.nan\n",
    "df_orders.head(2)"
   ]
  },
  {
   "cell_type": "code",
   "execution_count": 9,
   "id": "3c0b9be0",
   "metadata": {},
   "outputs": [
    {
     "data": {
      "text/html": [
       "<div>\n",
       "<style scoped>\n",
       "    .dataframe tbody tr th:only-of-type {\n",
       "        vertical-align: middle;\n",
       "    }\n",
       "\n",
       "    .dataframe tbody tr th {\n",
       "        vertical-align: top;\n",
       "    }\n",
       "\n",
       "    .dataframe thead th {\n",
       "        text-align: right;\n",
       "    }\n",
       "</style>\n",
       "<table border=\"1\" class=\"dataframe\">\n",
       "  <thead>\n",
       "    <tr style=\"text-align: right;\">\n",
       "      <th></th>\n",
       "      <th>order_id</th>\n",
       "      <th>user_id</th>\n",
       "      <th>created_at</th>\n",
       "      <th>total_price</th>\n",
       "    </tr>\n",
       "  </thead>\n",
       "  <tbody>\n",
       "    <tr>\n",
       "      <th>0</th>\n",
       "      <td>1</td>\n",
       "      <td>2774</td>\n",
       "      <td>2023-01-29</td>\n",
       "      <td>NaN</td>\n",
       "    </tr>\n",
       "    <tr>\n",
       "      <th>1</th>\n",
       "      <td>2</td>\n",
       "      <td>2686</td>\n",
       "      <td>2023-01-29</td>\n",
       "      <td>NaN</td>\n",
       "    </tr>\n",
       "  </tbody>\n",
       "</table>\n",
       "</div>"
      ],
      "text/plain": [
       "   order_id  user_id  created_at  total_price\n",
       "0         1     2774  2023-01-29          NaN\n",
       "1         2     2686  2023-01-29          NaN"
      ]
     },
     "execution_count": 9,
     "metadata": {},
     "output_type": "execute_result"
    }
   ],
   "source": [
    "df_orders = df_orders.sort_values('created_at', ascending=True).reset_index(drop=True)\n",
    "df_orders = df_orders.reset_index().rename(columns={'index': 'order_id'})\n",
    "df_orders['order_id'] = df_orders['order_id'] + 1\n",
    "df_orders.head(2)"
   ]
  },
  {
   "cell_type": "markdown",
   "id": "bad950f3",
   "metadata": {},
   "source": [
    "____________________________________________________________________________________________________"
   ]
  },
  {
   "cell_type": "markdown",
   "id": "c612d4fc",
   "metadata": {},
   "source": [
    "По аналогии поступим и с последней таблицей.\n",
    "\n",
    "Таблица \"order_items\" с полями: id, order_id, product_name, price, quantity"
   ]
  },
  {
   "cell_type": "code",
   "execution_count": 10,
   "id": "3d4fdefe",
   "metadata": {},
   "outputs": [
    {
     "data": {
      "text/html": [
       "<div>\n",
       "<style scoped>\n",
       "    .dataframe tbody tr th:only-of-type {\n",
       "        vertical-align: middle;\n",
       "    }\n",
       "\n",
       "    .dataframe tbody tr th {\n",
       "        vertical-align: top;\n",
       "    }\n",
       "\n",
       "    .dataframe thead th {\n",
       "        text-align: right;\n",
       "    }\n",
       "</style>\n",
       "<table border=\"1\" class=\"dataframe\">\n",
       "  <thead>\n",
       "    <tr style=\"text-align: right;\">\n",
       "      <th></th>\n",
       "      <th>order_id</th>\n",
       "      <th>total_price</th>\n",
       "    </tr>\n",
       "  </thead>\n",
       "  <tbody>\n",
       "    <tr>\n",
       "      <th>0</th>\n",
       "      <td>1</td>\n",
       "      <td>NaN</td>\n",
       "    </tr>\n",
       "    <tr>\n",
       "      <th>1</th>\n",
       "      <td>2</td>\n",
       "      <td>NaN</td>\n",
       "    </tr>\n",
       "    <tr>\n",
       "      <th>2</th>\n",
       "      <td>3</td>\n",
       "      <td>NaN</td>\n",
       "    </tr>\n",
       "    <tr>\n",
       "      <th>3</th>\n",
       "      <td>4</td>\n",
       "      <td>NaN</td>\n",
       "    </tr>\n",
       "    <tr>\n",
       "      <th>4</th>\n",
       "      <td>5</td>\n",
       "      <td>NaN</td>\n",
       "    </tr>\n",
       "  </tbody>\n",
       "</table>\n",
       "</div>"
      ],
      "text/plain": [
       "   order_id  total_price\n",
       "0         1          NaN\n",
       "1         2          NaN\n",
       "2         3          NaN\n",
       "3         4          NaN\n",
       "4         5          NaN"
      ]
     },
     "execution_count": 10,
     "metadata": {},
     "output_type": "execute_result"
    }
   ],
   "source": [
    "df_order_items = df_orders[['order_id','total_price']].copy()\n",
    "df_order_items.head()"
   ]
  },
  {
   "cell_type": "code",
   "execution_count": 11,
   "id": "e2342aec",
   "metadata": {},
   "outputs": [
    {
     "data": {
      "text/html": [
       "<div>\n",
       "<style scoped>\n",
       "    .dataframe tbody tr th:only-of-type {\n",
       "        vertical-align: middle;\n",
       "    }\n",
       "\n",
       "    .dataframe tbody tr th {\n",
       "        vertical-align: top;\n",
       "    }\n",
       "\n",
       "    .dataframe thead th {\n",
       "        text-align: right;\n",
       "    }\n",
       "</style>\n",
       "<table border=\"1\" class=\"dataframe\">\n",
       "  <thead>\n",
       "    <tr style=\"text-align: right;\">\n",
       "      <th></th>\n",
       "      <th>order_id</th>\n",
       "      <th>total_price</th>\n",
       "      <th>product_name</th>\n",
       "    </tr>\n",
       "  </thead>\n",
       "  <tbody>\n",
       "    <tr>\n",
       "      <th>0</th>\n",
       "      <td>1</td>\n",
       "      <td>NaN</td>\n",
       "      <td>Prod.№: kDOe-12612877</td>\n",
       "    </tr>\n",
       "    <tr>\n",
       "      <th>1</th>\n",
       "      <td>2</td>\n",
       "      <td>NaN</td>\n",
       "      <td>Prod.№: jMCN-28203691</td>\n",
       "    </tr>\n",
       "    <tr>\n",
       "      <th>2</th>\n",
       "      <td>3</td>\n",
       "      <td>NaN</td>\n",
       "      <td>Prod.№: NqEu-83181983</td>\n",
       "    </tr>\n",
       "    <tr>\n",
       "      <th>3</th>\n",
       "      <td>4</td>\n",
       "      <td>NaN</td>\n",
       "      <td>Prod.№: ELjg-02215747</td>\n",
       "    </tr>\n",
       "    <tr>\n",
       "      <th>4</th>\n",
       "      <td>5</td>\n",
       "      <td>NaN</td>\n",
       "      <td>Prod.№: ZlNz-37570014</td>\n",
       "    </tr>\n",
       "  </tbody>\n",
       "</table>\n",
       "</div>"
      ],
      "text/plain": [
       "   order_id  total_price           product_name\n",
       "0         1          NaN  Prod.№: kDOe-12612877\n",
       "1         2          NaN  Prod.№: jMCN-28203691\n",
       "2         3          NaN  Prod.№: NqEu-83181983\n",
       "3         4          NaN  Prod.№: ELjg-02215747\n",
       "4         5          NaN  Prod.№: ZlNz-37570014"
      ]
     },
     "execution_count": 11,
     "metadata": {},
     "output_type": "execute_result"
    }
   ],
   "source": [
    "product_name=[]\n",
    "for i in range(int(n * 5)):\n",
    "    product_name.append(fake.bothify(text='Prod.№: ????-########'))\n",
    "\n",
    "df_order_items['product_name'] = product_name\n",
    "df_order_items.head()    "
   ]
  },
  {
   "cell_type": "code",
   "execution_count": 12,
   "id": "a8f7b71b",
   "metadata": {},
   "outputs": [],
   "source": [
    "quantity=[]\n",
    "for i in range(int(n * 5)):\n",
    "    quantity.append(random.randrange(1, 100, 1))\n",
    "\n",
    "df_order_items['quantity'] = quantity"
   ]
  },
  {
   "cell_type": "code",
   "execution_count": 13,
   "id": "fd0a94ef",
   "metadata": {},
   "outputs": [],
   "source": [
    "# Создадим список 'prices' и заполним его псевдослучайными целыми числами от 5 до 500 с шагом 5\n",
    "prices=[]\n",
    "for i in range(int(n *5)):\n",
    "     prices.append(random.randrange(5, 500, 5))\n",
    "\n",
    "df_order_items['price'] = prices"
   ]
  },
  {
   "cell_type": "code",
   "execution_count": 14,
   "id": "7da7e641",
   "metadata": {},
   "outputs": [],
   "source": [
    "df_order_items['total_price'] = df_order_items.quantity * df_order_items.price"
   ]
  },
  {
   "cell_type": "code",
   "execution_count": 15,
   "id": "f304aefc",
   "metadata": {},
   "outputs": [
    {
     "data": {
      "text/html": [
       "<div>\n",
       "<style scoped>\n",
       "    .dataframe tbody tr th:only-of-type {\n",
       "        vertical-align: middle;\n",
       "    }\n",
       "\n",
       "    .dataframe tbody tr th {\n",
       "        vertical-align: top;\n",
       "    }\n",
       "\n",
       "    .dataframe thead th {\n",
       "        text-align: right;\n",
       "    }\n",
       "</style>\n",
       "<table border=\"1\" class=\"dataframe\">\n",
       "  <thead>\n",
       "    <tr style=\"text-align: right;\">\n",
       "      <th></th>\n",
       "      <th>id</th>\n",
       "      <th>order_id</th>\n",
       "      <th>total_price</th>\n",
       "      <th>product_name</th>\n",
       "      <th>quantity</th>\n",
       "      <th>price</th>\n",
       "    </tr>\n",
       "  </thead>\n",
       "  <tbody>\n",
       "    <tr>\n",
       "      <th>0</th>\n",
       "      <td>1</td>\n",
       "      <td>1</td>\n",
       "      <td>18090</td>\n",
       "      <td>Prod.№: kDOe-12612877</td>\n",
       "      <td>67</td>\n",
       "      <td>270</td>\n",
       "    </tr>\n",
       "    <tr>\n",
       "      <th>1</th>\n",
       "      <td>2</td>\n",
       "      <td>2</td>\n",
       "      <td>1320</td>\n",
       "      <td>Prod.№: jMCN-28203691</td>\n",
       "      <td>8</td>\n",
       "      <td>165</td>\n",
       "    </tr>\n",
       "  </tbody>\n",
       "</table>\n",
       "</div>"
      ],
      "text/plain": [
       "   id  order_id  total_price           product_name  quantity  price\n",
       "0   1         1        18090  Prod.№: kDOe-12612877        67    270\n",
       "1   2         2         1320  Prod.№: jMCN-28203691         8    165"
      ]
     },
     "execution_count": 15,
     "metadata": {},
     "output_type": "execute_result"
    }
   ],
   "source": [
    "df_order_items = df_order_items.reset_index(drop=True)\n",
    "df_order_items = df_order_items.reset_index().rename(columns={'index': 'id'})\n",
    "df_order_items['id'] = df_order_items['id'] + 1\n",
    "df_order_items.head(2)"
   ]
  },
  {
   "cell_type": "markdown",
   "id": "49e21fc5",
   "metadata": {},
   "source": [
    "____________________________________________________________________"
   ]
  },
  {
   "cell_type": "code",
   "execution_count": 16,
   "id": "44dfbfc7",
   "metadata": {},
   "outputs": [],
   "source": [
    "# Сохраним DataFrame в файл.csv\n",
    "# Так как колонка 'id' у нас будет являться первичным ключом, и мы при создании таблицы установим параметры для неё SERIAL PRIMARY KEY, избавимся от колонок 'id' в наших датафреймах.\n",
    "df_users = df_users[['name', 'email', 'created_at']] \n",
    "df_users.to_csv('users.csv', index=False)"
   ]
  },
  {
   "cell_type": "code",
   "execution_count": 17,
   "id": "cc88e4a0",
   "metadata": {},
   "outputs": [],
   "source": [
    "df_orders['total_price'] = df_order_items['total_price'].copy()\n",
    "df_orders = df_orders[['user_id', 'created_at', 'total_price']]\n",
    "df_orders.to_csv('orders.csv', index=False)"
   ]
  },
  {
   "cell_type": "code",
   "execution_count": 18,
   "id": "97998518",
   "metadata": {},
   "outputs": [],
   "source": [
    "df_order_items = df_order_items[['order_id', 'product_name', 'price', 'quantity']]\n",
    "df_order_items.to_csv('order_items.csv', index=False)"
   ]
  }
 ],
 "metadata": {
  "kernelspec": {
   "display_name": "Python 3 (ipykernel)",
   "language": "python",
   "name": "python3"
  },
  "language_info": {
   "codemirror_mode": {
    "name": "ipython",
    "version": 3
   },
   "file_extension": ".py",
   "mimetype": "text/x-python",
   "name": "python",
   "nbconvert_exporter": "python",
   "pygments_lexer": "ipython3",
   "version": "3.12.2"
  }
 },
 "nbformat": 4,
 "nbformat_minor": 5
}
